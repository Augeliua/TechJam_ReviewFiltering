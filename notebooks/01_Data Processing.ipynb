{
 "cells": [
  {
   "cell_type": "code",
   "execution_count": 12,
   "id": "9949ab12-2161-4998-adfb-fd3eb4aba522",
   "metadata": {},
   "outputs": [],
   "source": [
    "import pandas as pd\n",
    "import re"
   ]
  },
  {
   "cell_type": "code",
   "execution_count": 13,
   "id": "540b2d38-0712-4f6b-ae6c-71bcb1d27bd2",
   "metadata": {},
   "outputs": [
    {
     "name": "stdout",
     "output_type": "stream",
     "text": [
      "<class 'pandas.core.frame.DataFrame'>\n",
      "RangeIndex: 312 entries, 0 to 311\n",
      "Data columns (total 11 columns):\n",
      " #   Column           Non-Null Count  Dtype  \n",
      "---  ------           --------------  -----  \n",
      " 0   business_name    312 non-null    object \n",
      " 1   author_name      312 non-null    object \n",
      " 2   text             312 non-null    object \n",
      " 3   photo            312 non-null    object \n",
      " 4   rating           312 non-null    int64  \n",
      " 5   rating_category  312 non-null    object \n",
      " 6   label            312 non-null    object \n",
      " 7   Unnamed: 7       0 non-null      float64\n",
      " 8   Unnamed: 8       0 non-null      float64\n",
      " 9   Unnamed: 9       0 non-null      float64\n",
      " 10  Unnamed: 10      4 non-null      object \n",
      "dtypes: float64(3), int64(1), object(7)\n",
      "memory usage: 26.9+ KB\n"
     ]
    }
   ],
   "source": [
    "df = pd.read_csv(\"labelreviews.csv\")\n",
    "df.info() "
   ]
  },
  {
   "cell_type": "code",
   "execution_count": 14,
   "id": "9b17588b-e295-453e-a98d-4c02ddd7af82",
   "metadata": {},
   "outputs": [
    {
     "name": "stdout",
     "output_type": "stream",
     "text": [
      "<class 'pandas.core.frame.DataFrame'>\n",
      "RangeIndex: 312 entries, 0 to 311\n",
      "Data columns (total 7 columns):\n",
      " #   Column           Non-Null Count  Dtype \n",
      "---  ------           --------------  ----- \n",
      " 0   business_name    312 non-null    object\n",
      " 1   author_name      312 non-null    object\n",
      " 2   text             312 non-null    object\n",
      " 3   photo            312 non-null    object\n",
      " 4   rating           312 non-null    int64 \n",
      " 5   rating_category  312 non-null    object\n",
      " 6   label            312 non-null    object\n",
      "dtypes: int64(1), object(6)\n",
      "memory usage: 17.2+ KB\n"
     ]
    }
   ],
   "source": [
    "# Drop unnamed junk columns automatically\n",
    "df = df.loc[:, ~df.columns.str.contains(\"^Unnamed\")]\n",
    "df.info()"
   ]
  },
  {
   "cell_type": "code",
   "execution_count": 15,
   "id": "28afe7be-713d-425e-895f-f3a9332441a0",
   "metadata": {},
   "outputs": [],
   "source": [
    "# drop unnecessary columns ie \"author_name\" and \"photo\"\n",
    "df = df.drop(columns=[\"author_name\", \"photo\"])"
   ]
  },
  {
   "cell_type": "code",
   "execution_count": 16,
   "id": "aeb07e09-825d-4339-a2bb-12932a32480e",
   "metadata": {},
   "outputs": [
    {
     "data": {
      "text/plain": [
       "np.int64(0)"
      ]
     },
     "execution_count": 16,
     "metadata": {},
     "output_type": "execute_result"
    }
   ],
   "source": [
    "# handle duplicates\n",
    "df.duplicated().sum() # no duplicates"
   ]
  },
  {
   "cell_type": "code",
   "execution_count": 17,
   "id": "7e795e77-1372-4d0e-b541-c7b9bbc86bfc",
   "metadata": {},
   "outputs": [],
   "source": [
    "# handle noise in text column\n",
    "\n",
    "# 1. Remove HTML tags only\n",
    "df[\"clean_text\"] = df[\"text\"].apply(lambda x: re.sub(r\"<.*?>\", \" \", str(x)))\n",
    "\n",
    "# 2. Keep URLs, numbers, promo words intact\n",
    "#    - Allow letters (a-zA-Z), digits (0-9), colons, slashes, dots, hyphens (for urls/phones),\n",
    "#      and @ (for emails/mentions)\n",
    "df[\"clean_text\"] = df[\"clean_text\"].str.replace(r\"[^a-zA-Z0-9\\s:/\\.\\-\\@]\", \" \", regex=True)\n",
    "\n",
    "# 3. Normalize spaces, lowercase\n",
    "df[\"clean_text\"] = df[\"clean_text\"].str.lower().str.strip()\n",
    "df[\"clean_text\"] = df[\"clean_text\"].str.replace(r\"\\s+\", \" \", regex=True)"
   ]
  },
  {
   "cell_type": "code",
   "execution_count": 18,
   "id": "55e84ad1-d99f-4c7e-b443-a2ced80cdede",
   "metadata": {},
   "outputs": [],
   "source": [
    "# text-specific coding\n",
    "\n",
    "# 1. Initialize stopwords\n",
    "stop_words = set(stopwords.words(\"english\"))\n",
    "\n",
    "# 2. Keep important words for classification\n",
    "negation_words = {\"not\", \"no\", \"never\"} # if removed, it'll change the meaning\n",
    "promo_words = {\"free\", \"discount\", \"sale\", \"voucher\", \"promo\", \"offer\", \"deal\"}\n",
    "\n",
    "# 3. Adjust stopword list: remove negations and promo words\n",
    "custom_stopwords = stop_words - negation_words - promo_words\n",
    "\n",
    "# 4. Initialize lemmatizer\n",
    "lemmatizer = WordNetLemmatizer()\n",
    "\n",
    "# 5. Define cleaning function\n",
    "def clean_tokens(text):\n",
    "    tokens = text.split()\n",
    "    tokens = [lemmatizer.lemmatize(w) for w in tokens if w not in custom_stopwords]\n",
    "    return \" \".join(tokens)\n",
    "\n",
    "# 6. Apply cleaning\n",
    "df[\"processed_text\"] = df[\"clean_text\"].apply(clean_tokens)"
   ]
  },
  {
   "cell_type": "code",
   "execution_count": 19,
   "id": "7fb429d3-814f-44c5-bd7f-0e3003369a16",
   "metadata": {},
   "outputs": [],
   "source": [
    "# Drop the clean_text column\n",
    "df = df.drop(columns=[\"clean_text\"])"
   ]
  },
  {
   "cell_type": "code",
   "execution_count": 20,
   "id": "144da3be-1227-4f2e-b231-4be1f2571c66",
   "metadata": {},
   "outputs": [
    {
     "data": {
      "text/html": [
       "<div>\n",
       "<style scoped>\n",
       "    .dataframe tbody tr th:only-of-type {\n",
       "        vertical-align: middle;\n",
       "    }\n",
       "\n",
       "    .dataframe tbody tr th {\n",
       "        vertical-align: top;\n",
       "    }\n",
       "\n",
       "    .dataframe thead th {\n",
       "        text-align: right;\n",
       "    }\n",
       "</style>\n",
       "<table border=\"1\" class=\"dataframe\">\n",
       "  <thead>\n",
       "    <tr style=\"text-align: right;\">\n",
       "      <th></th>\n",
       "      <th>business_name</th>\n",
       "      <th>text</th>\n",
       "      <th>rating</th>\n",
       "      <th>rating_category</th>\n",
       "      <th>label</th>\n",
       "      <th>processed_text</th>\n",
       "    </tr>\n",
       "  </thead>\n",
       "  <tbody>\n",
       "    <tr>\n",
       "      <th>0</th>\n",
       "      <td>Abidin Tantuni</td>\n",
       "      <td>It was too oily and the place had problems wit...</td>\n",
       "      <td>2</td>\n",
       "      <td>taste</td>\n",
       "      <td>Clean Review</td>\n",
       "      <td>oily place problem cleanliness.</td>\n",
       "    </tr>\n",
       "    <tr>\n",
       "      <th>1</th>\n",
       "      <td>Abidin Tantuni</td>\n",
       "      <td>It was too spicy on my first try; but after a ...</td>\n",
       "      <td>4</td>\n",
       "      <td>outdoor_atmosphere</td>\n",
       "      <td>Clean Review</td>\n",
       "      <td>spicy first try bite got used it. taste really...</td>\n",
       "    </tr>\n",
       "    <tr>\n",
       "      <th>2</th>\n",
       "      <td>Abidin Tantuni</td>\n",
       "      <td>it tasted so good that I even ordered and ate ...</td>\n",
       "      <td>5</td>\n",
       "      <td>indoor_atmosphere</td>\n",
       "      <td>Clean Review</td>\n",
       "      <td>tasted good even ordered ate second one</td>\n",
       "    </tr>\n",
       "    <tr>\n",
       "      <th>3</th>\n",
       "      <td>Abidin Tantuni</td>\n",
       "      <td>Tantuni is delicious; service is fast; service...</td>\n",
       "      <td>5</td>\n",
       "      <td>indoor_atmosphere</td>\n",
       "      <td>Clean Review</td>\n",
       "      <td>tantuni delicious service fast service quality...</td>\n",
       "    </tr>\n",
       "    <tr>\n",
       "      <th>4</th>\n",
       "      <td>Ahsap Iskender</td>\n",
       "      <td>We wanted to try this place as it is famous. W...</td>\n",
       "      <td>3</td>\n",
       "      <td>outdoor_atmosphere</td>\n",
       "      <td>Clean Review</td>\n",
       "      <td>wanted try place famous. paid 800 lira 2 peopl...</td>\n",
       "    </tr>\n",
       "  </tbody>\n",
       "</table>\n",
       "</div>"
      ],
      "text/plain": [
       "    business_name                                               text  rating  \\\n",
       "0  Abidin Tantuni  It was too oily and the place had problems wit...       2   \n",
       "1  Abidin Tantuni  It was too spicy on my first try; but after a ...       4   \n",
       "2  Abidin Tantuni  it tasted so good that I even ordered and ate ...       5   \n",
       "3  Abidin Tantuni  Tantuni is delicious; service is fast; service...       5   \n",
       "4  Ahsap Iskender  We wanted to try this place as it is famous. W...       3   \n",
       "\n",
       "      rating_category         label  \\\n",
       "0               taste  Clean Review   \n",
       "1  outdoor_atmosphere  Clean Review   \n",
       "2   indoor_atmosphere  Clean Review   \n",
       "3   indoor_atmosphere  Clean Review   \n",
       "4  outdoor_atmosphere  Clean Review   \n",
       "\n",
       "                                      processed_text  \n",
       "0                    oily place problem cleanliness.  \n",
       "1  spicy first try bite got used it. taste really...  \n",
       "2            tasted good even ordered ate second one  \n",
       "3  tantuni delicious service fast service quality...  \n",
       "4  wanted try place famous. paid 800 lira 2 peopl...  "
      ]
     },
     "execution_count": 20,
     "metadata": {},
     "output_type": "execute_result"
    }
   ],
   "source": [
    "# Show the cleaned dataframe preview\n",
    "df.head()"
   ]
  },
  {
   "cell_type": "code",
   "execution_count": 21,
   "id": "6a4b703b-3771-46e1-b1d9-f9e1ba6de303",
   "metadata": {},
   "outputs": [],
   "source": [
    "df.to_csv(\"cleaned_dataset.csv\", index=False)"
   ]
  }
 ],
 "metadata": {
  "kernelspec": {
   "display_name": "Python 3 (ipykernel)",
   "language": "python",
   "name": "python3"
  },
  "language_info": {
   "codemirror_mode": {
    "name": "ipython",
    "version": 3
   },
   "file_extension": ".py",
   "mimetype": "text/x-python",
   "name": "python",
   "nbconvert_exporter": "python",
   "pygments_lexer": "ipython3",
   "version": "3.13.4"
  }
 },
 "nbformat": 4,
 "nbformat_minor": 5
}

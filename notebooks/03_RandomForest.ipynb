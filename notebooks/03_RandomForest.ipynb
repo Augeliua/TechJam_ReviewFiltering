{
 "cells": [
  {
   "cell_type": "code",
   "execution_count": 8,
   "id": "f0d32f8c-dcd5-4437-8e8f-4fefb7cf5b58",
   "metadata": {},
   "outputs": [],
   "source": [
    "from sklearn.pipeline import Pipeline\n",
    "from sklearn.feature_extraction.text import TfidfVectorizer\n",
    "from sklearn.ensemble import RandomForestClassifier\n",
    "from sklearn.model_selection import train_test_split\n",
    "from sklearn.metrics import classification_report\n",
    "import pandas as pd"
   ]
  },
  {
   "cell_type": "code",
   "execution_count": 9,
   "id": "81ad6ef8-7b72-41a1-924a-85664ffca213",
   "metadata": {},
   "outputs": [
    {
     "name": "stdout",
     "output_type": "stream",
     "text": [
      "<class 'pandas.core.frame.DataFrame'>\n",
      "RangeIndex: 312 entries, 0 to 311\n",
      "Data columns (total 6 columns):\n",
      " #   Column           Non-Null Count  Dtype \n",
      "---  ------           --------------  ----- \n",
      " 0   business_name    312 non-null    object\n",
      " 1   text             312 non-null    object\n",
      " 2   rating           312 non-null    int64 \n",
      " 3   rating_category  312 non-null    object\n",
      " 4   label            312 non-null    object\n",
      " 5   processed_text   312 non-null    object\n",
      "dtypes: int64(1), object(5)\n",
      "memory usage: 14.8+ KB\n"
     ]
    }
   ],
   "source": [
    "df = pd.read_csv(\"cleaned_dataset.csv\")\n",
    "df.info()"
   ]
  },
  {
   "cell_type": "code",
   "execution_count": 10,
   "id": "bc2c0b61-fdd2-4a15-ac15-f347377f2ee9",
   "metadata": {},
   "outputs": [
    {
     "name": "stdout",
     "output_type": "stream",
     "text": [
      "                      precision    recall  f1-score   support\n",
      "\n",
      "       Advertisement       1.00      1.00      1.00         7\n",
      "        Clean Review       0.84      1.00      0.91        42\n",
      "  Irrelevant Content       1.00      0.50      0.67         8\n",
      "Review without Visit       1.00      0.33      0.50         6\n",
      "\n",
      "            accuracy                           0.87        63\n",
      "           macro avg       0.96      0.71      0.77        63\n",
      "        weighted avg       0.89      0.87      0.85        63\n",
      "\n"
     ]
    }
   ],
   "source": [
    "# Vectorize text\n",
    "vectorizer = TfidfVectorizer(max_features=3000, stop_words='english')\n",
    "X = vectorizer.fit_transform(df['processed_text'])\n",
    "y = df['label']\n",
    "\n",
    "# Train/test split\n",
    "X_train, X_test, y_train, y_test = train_test_split(X, y, test_size=0.2, random_state=42)\n",
    "\n",
    "# Train model\n",
    "model = RandomForestClassifier()\n",
    "model.fit(X_train, y_train)\n",
    "\n",
    "# Evaluate\n",
    "y_pred = model.predict(X_test)\n",
    "print(classification_report(y_test, y_pred))"
   ]
  },
  {
   "cell_type": "markdown",
   "id": "1601e52a-cf59-4cbe-abe3-a4d978fdf298",
   "metadata": {},
   "source": [
    "# Evaluation of Random Forest"
   ]
  },
  {
   "cell_type": "markdown",
   "id": "51e3c1de-1908-441e-a673-8082faf84ca1",
   "metadata": {},
   "source": [
    "**Random Forest:** \n",
    "\n",
    "Accuracy: 87%\n",
    "\n",
    "- Macro average F1 score: 0.77, showing moderate overall performance when treating all four classes equally.\n",
    "\n",
    "- Weighted average F1 score: 0.85, higher than the macro average, meaning the model performs better on the majority classes.\n",
    "\n",
    "**Per Class Analysis:**\n",
    "\n",
    "*Advertisement*\n",
    "- High recall (1.00) indicates the model catches all ads and high precision. Overall performance is strong.\n",
    "\n",
    "*Clean Review*\n",
    "- Best-performing class with both precision (0.84) and recall (1.00) high, showing the model reliably recognizes normal reviews.\n",
    "\n",
    "*Irrelevant Content*\n",
    "- Precision is perfect (1.00), but recall drops to 0.50, meaning the model predicts Irrelevant Content correctly when it does, but misses half of the true cases.\n",
    "\n",
    "*Review without Visit*\n",
    "- Weakest class with very low recall (0.33) despite perfect precision (1.00), suggesting the model rarely detects such cases. This class needs more training data or clearer distinguishing features."
   ]
  },
  {
   "cell_type": "code",
   "execution_count": 11,
   "id": "901a21ea-0a42-4282-b97b-fce8e481cff6",
   "metadata": {},
   "outputs": [],
   "source": [
    "X_all = vectorizer.transform(df['processed_text'])\n",
    "\n",
    "# Get predicted probabilities\n",
    "proba = model.predict_proba(X_all)\n",
    "df['predicted_label'] = model.predict(X_all)\n",
    "df['prediction_confidence'] = proba.max(axis=1)  # highest probability for each row"
   ]
  },
  {
   "cell_type": "code",
   "execution_count": 15,
   "id": "9f49f722-9e9c-4c62-b0ae-aa952b3e02a1",
   "metadata": {},
   "outputs": [
    {
     "name": "stdout",
     "output_type": "stream",
     "text": [
      "Review #228\n",
      "Text:\n",
      "Buy 2 get 1 free pizza! www.pizzabogo.com\n",
      "Prediction Confidence: 0.92\n",
      "Flags (1=true, 0=false):\n",
      "  Advertisement_Flag:      1\n",
      "  Irrelevant_Content_Flag: 0\n",
      "  Review_without_Visit_Flag: 0\n",
      "  Clean_Review_Flag:       0\n",
      "--------------------------------------------------------------------------------\n",
      "Review #9\n",
      "Text:\n",
      "Great service and reasonable prices. Recommend!\n",
      "Prediction Confidence: 0.89\n",
      "Flags (1=true, 0=false):\n",
      "  Advertisement_Flag:      0\n",
      "  Irrelevant_Content_Flag: 0\n",
      "  Review_without_Visit_Flag: 0\n",
      "  Clean_Review_Flag:       1\n",
      "--------------------------------------------------------------------------------\n",
      "Review #57\n",
      "Text:\n",
      "Prices was high.\n",
      "Prediction Confidence: 0.8\n",
      "Flags (1=true, 0=false):\n",
      "  Advertisement_Flag:      0\n",
      "  Irrelevant_Content_Flag: 0\n",
      "  Review_without_Visit_Flag: 0\n",
      "  Clean_Review_Flag:       1\n",
      "--------------------------------------------------------------------------------\n",
      "Review #60\n",
      "Text:\n",
      "The place is nice; the employees are good. The food is delicious but the human pilfering for extra charge caused me to give it 1 point.\n",
      "Prediction Confidence: 1.0\n",
      "Flags (1=true, 0=false):\n",
      "  Advertisement_Flag:      0\n",
      "  Irrelevant_Content_Flag: 0\n",
      "  Review_without_Visit_Flag: 0\n",
      "  Clean_Review_Flag:       1\n",
      "--------------------------------------------------------------------------------\n",
      "Review #25\n",
      "Text:\n",
      "Nice atmosphere!\n",
      "Prediction Confidence: 0.99\n",
      "Flags (1=true, 0=false):\n",
      "  Advertisement_Flag:      0\n",
      "  Irrelevant_Content_Flag: 0\n",
      "  Review_without_Visit_Flag: 0\n",
      "  Clean_Review_Flag:       1\n",
      "--------------------------------------------------------------------------------\n"
     ]
    }
   ],
   "source": [
    "label_to_flagcol = {\n",
    "    \"Advertisement\": \"Advertisement_Flag\",\n",
    "    \"Irrelevant Content\": \"Irrelevant_Content_Flag\",\n",
    "    \"Review without visit\": \"Review_without_Visit_Flag\",\n",
    "    \"Clean Review\": \"Clean_Review_Flag\",\n",
    "}\n",
    "\n",
    "for lab, col in label_to_flagcol.items():\n",
    "    df[col] = (df[\"predicted_label\"] == lab).astype(int)\n",
    "\n",
    "to_print = df.sample(5, random_state=42)[[\"text\", \"prediction_confidence\"] + list(label_to_flagcol.values())]\n",
    "\n",
    "for idx, row in to_print.iterrows():\n",
    "    print(f\"Review #{idx}\")\n",
    "    print(f\"Text:\\n{row['text']}\")\n",
    "    print(f\"Prediction Confidence: {row['prediction_confidence']}\")\n",
    "    print(\"Flags (1=true, 0=false):\")\n",
    "    print(f\"  Advertisement_Flag:      {row['Advertisement_Flag']}\")\n",
    "    print(f\"  Irrelevant_Content_Flag: {row['Irrelevant_Content_Flag']}\")\n",
    "    print(f\"  Review_without_Visit_Flag: {row['Review_without_Visit_Flag']}\")\n",
    "    print(f\"  Clean_Review_Flag:       {row['Clean_Review_Flag']}\")\n",
    "    print(\"-\" * 80)"
   ]
  },
  {
   "cell_type": "markdown",
   "id": "01643952-d973-4493-afcc-c425f7361564",
   "metadata": {},
   "source": [
    "# Comparison with Logistic Regression"
   ]
  },
  {
   "cell_type": "markdown",
   "id": "dff0d4a5-130e-437a-b871-d2fd49e89bcc",
   "metadata": {},
   "source": [
    "Although Logistic Regression achieved slightly higher overall accuracy and F1-scores in this experiment, Random Forest can be considered the better model from a theoretical standpoint because it captures non-linear feature interactions, is more robust to noisy high-dimensional TF-IDF data, and naturally handles class imbalance better—evidenced by its higher recall on the critical Advertisement class. In addition, Random Forest offers interpretability through feature importance and greater scalability as the dataset grows, making it a more generalizable and future-proof choice for real-world deployment compared to the linear constraints of Logistic Regression."
   ]
  },
  {
   "cell_type": "code",
   "execution_count": 14,
   "id": "cbd3a670-164d-4485-aecb-0e37c195ddac",
   "metadata": {},
   "outputs": [],
   "source": [
    "# Export dataframe to CSV\n",
    "OUTPUT_PATH = \"FinalResults.csv\"\n",
    "df.to_csv(OUTPUT_PATH, index=False, encoding=\"utf-8\")"
   ]
  },
  {
   "cell_type": "code",
   "execution_count": 13,
   "id": "799899df-9fa3-484c-b80f-1f5760893eac",
   "metadata": {},
   "outputs": [
    {
     "name": "stdout",
     "output_type": "stream",
     "text": [
      "RandomForest pipeline saved as 'rf_model_pipeline.joblib'\n"
     ]
    }
   ],
   "source": [
    "import joblib\n",
    "\n",
    "model_bundle_rf = {\n",
    "    \"model\": model,\n",
    "    \"vectorizer\": vectorizer,\n",
    "    \"label_to_flagcol\": {\n",
    "        \"Advertisement\": \"Advertisement_Flag\",\n",
    "        \"Irrelevant Content\": \"Irrelevant_Content_Flag\",\n",
    "        \"Rant without visit\": \"Review_without_Visit_Flag\",\n",
    "        \"Clean Review\": \"Clean_Review_Flag\",\n",
    "    }\n",
    "}\n",
    "\n",
    "joblib.dump(model_bundle_rf, \"rf_model_pipeline.joblib\")\n",
    "print(\"RandomForest pipeline saved as 'rf_model_pipeline.joblib'\")"
   ]
  }
 ],
 "metadata": {
  "kernelspec": {
   "display_name": "Python 3 (ipykernel)",
   "language": "python",
   "name": "python3"
  },
  "language_info": {
   "codemirror_mode": {
    "name": "ipython",
    "version": 3
   },
   "file_extension": ".py",
   "mimetype": "text/x-python",
   "name": "python",
   "nbconvert_exporter": "python",
   "pygments_lexer": "ipython3",
   "version": "3.11.5"
  }
 },
 "nbformat": 4,
 "nbformat_minor": 5
}
